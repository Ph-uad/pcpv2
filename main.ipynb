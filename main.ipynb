{
 "cells": [
  {
   "cell_type": "code",
   "execution_count": 38,
   "metadata": {},
   "outputs": [],
   "source": [
    "import DATA_WRANGLER as DW\n",
    "import DSA as EDA"
   ]
  },
  {
   "cell_type": "code",
   "execution_count": null,
   "metadata": {},
   "outputs": [],
   "source": [
    "print(\"Hello there!\")\n",
    "print(\"My name is Phuad. \\n Welcome to my PCP assignment demonstration\")\n",
    "print(\"\\033[0;36;mThere are two data categories available for analysis, namely musical and genre data.\\033[0m\\n\\n\")\n",
    "\n",
    "# The user puts in their names (Prompt)\n",
    "print(\"What is your name ¿\")\n",
    "name = input(\"Name:\")\n",
    "\n",
    "# if no name was given, the user will be referred to as anon\n",
    "name = name if len(name) else \"Anon\"\n",
    "\n",
    "# Print name\n",
    "print(f\"Hello, {name}!\")\n",
    "\n",
    "# The user chooses to analyze or quit (Prompt)\n",
    "print(\"What would you like to do? \\n Options: \\n  1. Analyze  \\t  \\033[1;31m  \\n Press any other key to Quit\\033[0m\")\n",
    "analyze = input(\" 1. Analyze  Press any other key to quit\")\n",
    "\n",
    "# If the user chooses to analyze, the program will continue"
   ]
  },
  {
   "cell_type": "code",
   "execution_count": null,
   "metadata": {},
   "outputs": [],
   "source": [
    "if analyze == \"1\":\n",
    "\n",
    "    print(\"What would you like to analyze? \\n Options: \\n  1. Musical Data  \\t  2. Genre Data \\033[1;31m  \\n Press any other key to Quit\\033[0m\")\n",
    "    data_choice = input(\" 1. Musical Data  2. Genre Data\") \n",
    "    \n",
    "    #Pass appropriate data filepath to the data wrangling class\n",
    "    file_path = None\n",
    "    if data_choice == \"1\":\n",
    "        file_path = '../data/data.csv'\n",
    "    elif data_choice == \"2\":\n",
    "        file_path = '../data/data_genres.csv'\n",
    "    else:\n",
    "        print(\"Invalid choice. Exiting program\")\n",
    "        exit()\n",
    "    \n",
    "    # Initialize data wrangling class with the provided file path\n",
    "    data = DW.DATA_WRANGLER(file_path)\n",
    "    df = data.load_data()\n",
    "    eda = EDA.DSA(df)\n",
    "    \n",
    "    print(\"\\n\\033[1;33mAvailable options for analysis:\\033[0m\")\n",
    "    print(\"1. Summary of the data \\n2. Descriptive Statistical Analysis \\n3. Correlation table  \\033[1;31m  \\n Press any other key to Quit\\033[0m\")\n",
    "    option = input(\"Please select an option: \")\n",
    "     \n",
    "    if option == \"1\":\n",
    "        print(\"\\n\\033[1;33mSummary of the data:\\033[0m\")\n",
    "        print(eda.get_summary())\n",
    "    elif option == \"2\":\n",
    "        print(\"Please select an option of descriptive measure type: \")\n",
    "        \n",
    "        print(\"1.Measure Central Tendency (Mean,Median,Mode )\")\n",
    "        print(\"2. Measure Dispersion (Range, Variance, Standard Deviation, Interquartile Range )\")\n",
    "        print(\"3. Measure Shape (Skewness, Kurtosis)\")\n",
    "        print(\"4. Measure Variance (Standard Deviation, Range, Interquartile Range )\")\n",
    "        print(\"5. Frequency Distribution (Frequency and Relative Frequency Table)\")\n",
    "        print(\"6. Relationship between Vatiables (Correlation, correlation matrix)\")\n",
    "        print(\"7. Others (minumumum, maximum, bar-chart)\")\n",
    "        print(\"Press any other key to cancel\")\n",
    "        \n",
    "        dsa_type = input(\"Please select an option:\")\n",
    "        \n",
    "        if dsa_type == \"1\":\n",
    "            print(\"Please Select a Feature\")\n",
    "            \n",
    "            if data_choice == \"1\":\n",
    "                print(\"1. Valence \\t2. Year \\n3. Acousticness \\t4. Artist \\n5. Danceability \\t6. Duration_ms \\n7. Energy \\t8. Explicit \\n9. Id \\t10. Instrumentalness \\n11. Key \\t12. Liveness \\n13. Loudness \\t14. Mode \\n15. Name \\t16. Popularity \\n17. Release_date \\t18. Speechiness \\n19. Tempo\")\n",
    "            elif data_choice == \"2\": \n",
    "                print(\"1. Mode \\t2. Genre \\t3. Acousticness \\t4. Dancability \\n5. Duration_ms \\t6. Energy \\t7. Instrumentalness \\t8. Liveness \\n9. Loudness \\t10. Speechiness \\t11. Tempo \\t12. Valence \\t13. Popularity \\t 14. Key\")  \n",
    "                \n",
    "            feature = input(\"Please select a feature\")\n",
    "            print(\"Please sellect a statical analytic tool\")\n",
    "            \n",
    "            print(\"1. Mean\\t2. Median\\n3. Mode\")\n",
    "            central_tendensies = input(\"Please enter an option\")\n",
    "            \n",
    "            if central_tendensies == \"1\":\n",
    "                print(eda.calculate_mean(feature))\n",
    "            elif central_tendensies == \"2\":\n",
    "                print(eda.calculate_median(feature))\n",
    "            elif central_tendensies == \"3\":\n",
    "                print(eda.calculate_mode(feature))\n",
    "            else:\n",
    "                print(\"Invalid option. Exiting program\")\n",
    "                exit()\n",
    "        \n",
    "        elif dsa_type == \"2\":\n",
    "            print(\"Please Select a Feature\")\n",
    "            if data_choice == \"1\":\n",
    "                print(\"1. Valence \\t2. Year \\n3. Acousticness \\t4. Artist \\n5. Danceability \\t6. Duration_ms \\n7. Energy \\t8. Explicit \\n9. Id \\t10. Instrumentalness \\n11. Key \\t12. Liveness \\n13. Loudness \\t14. Mode \\n15. Name \\t16. Popularity \\n17. Release_date \\t18. Speechiness \\n19. Tempo\")\n",
    "            elif data_choice == \"2\": \n",
    "                print(\"1. Mode \\t2. Genre \\t3. Acousticness \\t4. Dancability \\n5. Duration_ms \\t6. Energy \\t7. Instrumentalness \\t8. Liveness \\n9. Loudness \\t10. Speechiness \\t11. Tempo \\t12. Valence \\t13. Popularity \\t 14. Key\")  \n",
    "            feature = input(\"Please select a feature\")\n",
    "            print(\"Please sellect a statical analytic tool\")\n",
    "            \n",
    "            print(\"1. Range\\t2. Variance\\n3. Standard Deviation\\n4. Interquartile Range\")\n",
    "            dispersion = input(\"Please enter an option\")\n",
    "            \n",
    "            if dispersion == \"1\":\n",
    "                print(eda.calculate_range(feature))\n",
    "            elif dispersion == \"2\":\n",
    "                print(eda.calculate_variance(feature))\n",
    "            elif dispersion == \"3\":\n",
    "                print(eda.calculate_standard_deviation(feature))\n",
    "            elif dispersion == \"4\":\n",
    "                print(eda.calculate_interquartile_range(feature))\n",
    "            else:\n",
    "                print(\"Invalid option. Exiting program\")\n",
    "                exit()\n",
    "        \n",
    "        elif dsa_type == \"3\":\n",
    "            print(\"Please Select a Feature\")\n",
    "            \n",
    "            if data_choice == \"1\":\n",
    "                print(\"1. Valence \\t2. Year \\n3. Acousticness \\t4. Artist \\n5. Danceability \\t6. Duration_ms \\n7. Energy \\t8. Explicit \\n9. Id \\t10. Instrumentalness \\n11. Key \\t12. Liveness \\n13. Loudness \\t14. Mode \\n15. Name \\t16. Popularity \\n17. Release_date \\t18. Speechiness \\n19. Tempo\")\n",
    "            elif data_choice == \"2\": \n",
    "                print(\"1. Mode \\t2. Genre \\t3. Acousticness \\t4. Dancability \\n5. Duration_ms \\t6. Energy \\t7. Instrumentalness \\t8. Liveness \\n9. Loudness \\t10. Speechiness \\t11. Tempo \\t12. Valence \\t13. Popularity \\t 14. Key\")  \n",
    "            \n",
    "            \n",
    "            \n",
    "                \n",
    "        \n",
    "    #     print(\"\\n\\033[1;33mAnalysis of a specific feature:\\033[0m\")\n",
    "    #     print(\"Features to analyze are : \\n\")\n",
    "    #     if data_choice == \"1\":\n",
    "    #         print(\"1. Valence \\t2. Year \\n3. Acousticness \\t4. Artist \\n5. Danceability \\t6. Duration_ms \\n7. Energy \\t8. Explicit \\n9. Id \\t10. Instrumentalness \\n11. Key \\t12. Liveness \\n13. Loudness \\t14. Mode \\n15. Name \\t16. Popularity \\n17. Release_date \\t18. Speechiness \\n19. Tempo\")\n",
    "    #     elif data_choice == \"2\":\n",
    "    #         print(\"1. Mode \\t2. Genre \\t3. Acousticness \\t4. Dancability \\n5. Duration_ms \\t6. Energy \\t7. Instrumentalness \\t8. Liveness \\n9. Loudness \\t10. Speechiness \\t11. Tempo \\t12. Valence \\t13. Popularity \\t 14. Key\")  \n",
    "            \n",
    "    #     feature = input(\"Enter the feature you'd like to analyze: \") \n",
    "        \n",
    "        \n",
    "                 \n",
    "    #     print(eda.get_feature_analysis(feature)) \n",
    "    # elif option == \"3\":\n",
    "    #     print(\"\\n\\033[1;33mCorrelation table:\\033[0m\")\n",
    "    #     print(eda.get_correlation_table())"
   ]
  },
  {
   "cell_type": "code",
   "execution_count": null,
   "metadata": {},
   "outputs": [],
   "source": [
    "\n",
    "if analyze == \"1\":\n",
    "   \n",
    "    \n",
    "    \n",
    "    \n",
    "    # Next we will ask the user to select an option for analysis and expan on them. \n",
    "    eda.plot_corrolation_table([\"artists\",\"id\",\"name\",\"loudness\",\"release_date\"])"
   ]
  },
  {
   "cell_type": "code",
   "execution_count": null,
   "metadata": {},
   "outputs": [],
   "source": [
    "%pip install pandas"
   ]
  },
  {
   "cell_type": "code",
   "execution_count": 39,
   "metadata": {},
   "outputs": [],
   "source": [
    "import RANKING as ranking\n",
    "import pandas as pd "
   ]
  },
  {
   "cell_type": "code",
   "execution_count": null,
   "metadata": {},
   "outputs": [],
   "source": [
    "df = pd.read_csv('../data/data.csv')\n",
    "df.columns[8]"
   ]
  },
  {
   "cell_type": "code",
   "execution_count": null,
   "metadata": {},
   "outputs": [],
   "source": [
    "df =  DW.DATA_WRANGLER('../data/data.csv')\n",
    "df = df.load_data()"
   ]
  },
  {
   "cell_type": "code",
   "execution_count": 42,
   "metadata": {},
   "outputs": [],
   "source": [
    "rank = ranking.RANKING(df, \"danceability\")    "
   ]
  },
  {
   "cell_type": "code",
   "execution_count": null,
   "metadata": {},
   "outputs": [],
   "source": [
    "rank.optimize_k_means(5)"
   ]
  },
  {
   "cell_type": "code",
   "execution_count": 19,
   "metadata": {},
   "outputs": [],
   "source": [
    "from sklearn.cluster import KMeans\n",
    "from sklearn.preprocessing import StandardScaler\n",
    "import matplotlib.pyplot as plt"
   ]
  },
  {
   "cell_type": "code",
   "execution_count": null,
   "metadata": {},
   "outputs": [],
   "source": [
    "# Step 1: Normalize the data\n",
    "scaler = StandardScaler()\n",
    "df = pd.read_csv(\"../data/data.csv\")\n",
    "data = df.drop(columns=[\"artists\", \"name\", \"id\", \"loudness\", \"release_date\"])\n",
    "data_normalized = scaler.fit_transform(data)"
   ]
  },
  {
   "cell_type": "code",
   "execution_count": 26,
   "metadata": {},
   "outputs": [],
   "source": [
    "# Step 1: Normalize the data\n",
    "scaler = StandardScaler()\n",
    "data_normalized = scaler.fit_transform(data)"
   ]
  },
  {
   "cell_type": "code",
   "execution_count": null,
   "metadata": {},
   "outputs": [],
   "source": [
    "# Step 2: Apply K-means\n",
    "kmeans = KMeans(n_clusters=7, random_state=42)  # Set k=2\n",
    "kmeans.fit(data_normalized)"
   ]
  },
  {
   "cell_type": "code",
   "execution_count": 35,
   "metadata": {},
   "outputs": [],
   "source": [
    "# Step 3: Get cluster assignments and centroids\n",
    "clusters = kmeans.labels_\n",
    "centroids = kmeans.cluster_centers_"
   ]
  },
  {
   "cell_type": "code",
   "execution_count": null,
   "metadata": {},
   "outputs": [],
   "source": [
    "# Step 4: Visualize (for 2D data)\n",
    "plt.scatter(data_normalized[:, 0], data_normalized[:, 1], c=clusters, cmap='viridis')\n",
    "plt.scatter(centroids[:, 0], centroids[:, 1], color='red', marker='x')  # Centroids\n",
    "plt.title('K-means Clustering')\n",
    "plt.show()"
   ]
  }
 ],
 "metadata": {
  "kernelspec": {
   "display_name": "sklearn-env",
   "language": "python",
   "name": "python3"
  },
  "language_info": {
   "codemirror_mode": {
    "name": "ipython",
    "version": 3
   },
   "file_extension": ".py",
   "mimetype": "text/x-python",
   "name": "python",
   "nbconvert_exporter": "python",
   "pygments_lexer": "ipython3",
   "version": "3.12.2"
  }
 },
 "nbformat": 4,
 "nbformat_minor": 2
}
