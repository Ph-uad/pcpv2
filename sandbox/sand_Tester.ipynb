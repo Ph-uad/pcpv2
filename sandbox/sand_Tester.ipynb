{
 "cells": [
  {
   "cell_type": "code",
   "execution_count": null,
   "metadata": {},
   "outputs": [],
   "source": [
    "import random\n",
    "import numpy as np\n",
    "from sklearn.metrics.pairwise import cosine_similarity\n",
    "from sklearn.preprocessing import normalize\n",
    "from scipy.sparse import csr_matrix"
   ]
  },
  {
   "cell_type": "code",
   "execution_count": null,
   "metadata": {},
   "outputs": [],
   "source": [
    "class RANKING:\n",
    "    def __init__(self, df, name_column, exclude_features = [\"artists\",\"id\",\"name\",\"loudness\",\"release_date\"]):\n",
    "        self.df = df\n",
    "        # Name of the column that contains the artist names in our case \"artists\"\n",
    "        self.name_column = name_column\n",
    "        self.exclude_features = exclude_features\n",
    "        self.artist = df[name_column].tolist()\n",
    "        \n",
    "        # self.target_column = target_column\n",
    "        \n",
    "        \n",
    "    def get_random_artist_observation_index_by_name(self, name):\n",
    "        indexes = []\n",
    "        \n",
    "        # find all indexes of artists that contain the name\n",
    "        for x in range(len(self.artist)):\n",
    "            if name.lower() in str(self.artist[x]).lower():\n",
    "                indexes.append(x)\n",
    "        \n",
    "        # if no matches found, return None\n",
    "        if len(indexes) == 0:\n",
    "            return None\n",
    "        else:\n",
    "            # return a random index from the found indexes \n",
    "            return  indexes[random.randint(0, len(indexes))]\n",
    "        \n",
    "        \n",
    "    def get_cosine_similarity_matrix(self, name, n = 5):\n",
    "        \n",
    "        target_index = self.get_random_artist_observation_index_by_name(name)\n",
    "        \n",
    "        if target_index is None:\n",
    "            return None\n",
    "        \n",
    "        if self.exclude_features is not None:\n",
    "          data = self.df.drop(columns=self.exclude_features).values\n",
    "        else:\n",
    "            data = self.df.values\n",
    "        \n",
    "        normalized_data = normalize(data)\n",
    "        sparse_data = csr_matrix(normalized_data)\n",
    "        similarity_scores = cosine_similarity(sparse_data, dense_output=False)\n",
    "        target_similarity = similarity_scores[target_index].toarray().flatten()\n",
    "        target_similarity[target_index] = -1\n",
    "        top_n_indices = np.argsort(target_similarity)[-n:][::-1]\n",
    "\n",
    "        return top_n_indices\n",
    "    \n"
   ]
  }
 ],
 "metadata": {
  "kernelspec": {
   "display_name": "Python 3",
   "language": "python",
   "name": "python3"
  },
  "language_info": {
   "name": "python",
   "version": "3.9.6"
  }
 },
 "nbformat": 4,
 "nbformat_minor": 2
}
